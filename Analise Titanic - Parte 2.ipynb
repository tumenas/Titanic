{
 "cells": [
  {
   "cell_type": "markdown",
   "metadata": {},
   "source": [
    "# Análise Titanic (Parte 2)- Feature Scaling\n",
    "\n",
    "Neste notebook iremos continuar com a análise de dados dos passageiros do Titanic. \n",
    "Iremos padronizar os valores quantitativos de idade ('age') e 'familia' tirando a média e dividindo pela variância (um dos possíveis tratamentos que podemos fazer com os dados).\n",
    "\n",
    "\n",
    "## Baixar os dados e realizar tratamentos feitos na Parte 1"
   ]
  },
  {
   "cell_type": "code",
   "execution_count": 24,
   "metadata": {},
   "outputs": [],
   "source": [
    "import pandas as pd\n",
    "\n",
    "dados = pd.read_excel('http://biostat.mc.vanderbilt.edu/wiki/pub/Main/DataSets/titanic3.xls')\n",
    "## Criar variável \"familia\" como a soma entre 'sibsp' e 'parch'\n",
    "dados['familia'] = dados['sibsp'] + dados['parch'] \n",
    "\n",
    "from sklearn.model_selection import train_test_split\n",
    "\n",
    "X_train, X_test, y_train, y_test = train_test_split(dados.iloc[:,dados.columns.values !='survived'], dados['survived'], test_size=0.33, random_state=42)\n",
    "\n",
    "## Inserir Idades faltantes com a Mediana\n",
    "X_train['age'].fillna(X_train['age'].median(), inplace = True)\n",
    "X_test['age'].fillna(X_test['age'].median(), inplace = True)\n",
    "\n",
    "#Criar dummies\n",
    "X_train = pd.get_dummies(X_train, columns=[\"pclass\",\"sex\"])\n",
    "X_test = pd.get_dummies(X_test, columns=[\"pclass\",\"sex\"])\n",
    "\n",
    "#Apagar as dummies que servirão de base\n",
    "del X_train['sex_female']\n",
    "del X_train['pclass_1']\n",
    "\n",
    "del X_test['sex_female']\n",
    "del X_test['pclass_1']\n",
    "\n",
    "from sklearn.metrics import accuracy_score\n",
    "from sklearn.metrics import confusion_matrix\n",
    "\n",
    "# Tabela com resultados finais\n",
    "resultados_acuracia = pd.DataFrame(columns = ['modelo', 'acuracia'])"
   ]
  },
  {
   "cell_type": "code",
   "execution_count": 25,
   "metadata": {},
   "outputs": [],
   "source": [
    "#### Padronizar as variáveis quantitativas\n",
    "from sklearn import preprocessing\n",
    "\n",
    "std_scale = preprocessing.StandardScaler().fit(X_train[['age', 'familia']])\n",
    "X_train[['age', 'familia']] = std_scale.transform(X_train[['age','familia']])\n",
    "\n",
    "std_scale2 = preprocessing.StandardScaler().fit(X_test[['age', 'familia']])\n",
    "X_test[['age', 'familia']] = std_scale2.transform(X_test[['age','familia']])\n"
   ]
  },
  {
   "cell_type": "markdown",
   "metadata": {},
   "source": [
    "## Rodar modelos"
   ]
  },
  {
   "cell_type": "code",
   "execution_count": 42,
   "metadata": {},
   "outputs": [],
   "source": [
    "\n",
    "#######################################################\n",
    "#\n",
    "#               Rodar Modelos\n",
    "#\n",
    "#######################################################\n",
    "\n",
    "from sklearn.metrics import accuracy_score\n",
    "from sklearn.metrics import confusion_matrix\n",
    "\n",
    "from sklearn.linear_model import LogisticRegression\n",
    "from sklearn.neighbors import KNeighborsClassifier\n",
    "from sklearn.naive_bayes import GaussianNB\n",
    "from sklearn.discriminant_analysis import LinearDiscriminantAnalysis\n",
    "from sklearn import svm\n",
    "from sklearn.tree import DecisionTreeClassifier\n",
    "\n",
    "modelos = [\n",
    "    [LogisticRegression(fit_intercept = True),'lr_sklearn'],\n",
    "    [KNeighborsClassifier(n_neighbors=3),'knn'],\n",
    "    [GaussianNB(),'naive_bayes'],\n",
    "    [LinearDiscriminantAnalysis(),'lda'],\n",
    "    [svm.SVC(gamma=0.1, C=1.0),'svm'],\n",
    "    [DecisionTreeClassifier(), 'arvore_decisao']\n",
    "]\n",
    "\n",
    "# Criar uma função para rodar todos os modelos \n",
    "def analise(modelo, nome, tabela_acuracia):\n",
    "    \n",
    "    modelo.fit(X_train[['pclass_2','pclass_3','age','sex_male','familia']],y_train)\n",
    "    previsto = modelo.predict(X_test[['pclass_2','pclass_3','age','sex_male','familia']])\n",
    "    acuracia = accuracy_score(y_test,previsto)\n",
    "    tabela_acuracia = tabela_acuracia.append({'modelo':nome, 'acuracia':acuracia}, ignore_index = True)\n",
    "                                             \n",
    "    return tabela_acuracia\n",
    "\n",
    "for item in modelos:\n",
    "    resultados_acuracia = analise(item[0],item[1], resultados_acuracia)"
   ]
  },
  {
   "cell_type": "code",
   "execution_count": 43,
   "metadata": {},
   "outputs": [
    {
     "data": {
      "text/html": [
       "<div>\n",
       "<style scoped>\n",
       "    .dataframe tbody tr th:only-of-type {\n",
       "        vertical-align: middle;\n",
       "    }\n",
       "\n",
       "    .dataframe tbody tr th {\n",
       "        vertical-align: top;\n",
       "    }\n",
       "\n",
       "    .dataframe thead th {\n",
       "        text-align: right;\n",
       "    }\n",
       "</style>\n",
       "<table border=\"1\" class=\"dataframe\">\n",
       "  <thead>\n",
       "    <tr style=\"text-align: right;\">\n",
       "      <th></th>\n",
       "      <th>modelo</th>\n",
       "      <th>acuracia</th>\n",
       "    </tr>\n",
       "  </thead>\n",
       "  <tbody>\n",
       "    <tr>\n",
       "      <th>0</th>\n",
       "      <td>lr_sklearn</td>\n",
       "      <td>0.803241</td>\n",
       "    </tr>\n",
       "    <tr>\n",
       "      <th>1</th>\n",
       "      <td>knn</td>\n",
       "      <td>0.752315</td>\n",
       "    </tr>\n",
       "    <tr>\n",
       "      <th>2</th>\n",
       "      <td>naive_bayes</td>\n",
       "      <td>0.784722</td>\n",
       "    </tr>\n",
       "    <tr>\n",
       "      <th>3</th>\n",
       "      <td>lda</td>\n",
       "      <td>0.800926</td>\n",
       "    </tr>\n",
       "    <tr>\n",
       "      <th>4</th>\n",
       "      <td>svm</td>\n",
       "      <td>0.798611</td>\n",
       "    </tr>\n",
       "    <tr>\n",
       "      <th>5</th>\n",
       "      <td>arvore_decisao</td>\n",
       "      <td>0.766204</td>\n",
       "    </tr>\n",
       "  </tbody>\n",
       "</table>\n",
       "</div>"
      ],
      "text/plain": [
       "           modelo  acuracia\n",
       "0      lr_sklearn  0.803241\n",
       "1             knn  0.752315\n",
       "2     naive_bayes  0.784722\n",
       "3             lda  0.800926\n",
       "4             svm  0.798611\n",
       "5  arvore_decisao  0.766204"
      ]
     },
     "execution_count": 43,
     "metadata": {},
     "output_type": "execute_result"
    }
   ],
   "source": [
    "resultados_acuracia"
   ]
  }
 ],
 "metadata": {
  "kernelspec": {
   "display_name": "Python 3",
   "language": "python",
   "name": "python3"
  },
  "language_info": {
   "codemirror_mode": {
    "name": "ipython",
    "version": 3
   },
   "file_extension": ".py",
   "mimetype": "text/x-python",
   "name": "python",
   "nbconvert_exporter": "python",
   "pygments_lexer": "ipython3",
   "version": "3.6.7"
  }
 },
 "nbformat": 4,
 "nbformat_minor": 2
}
