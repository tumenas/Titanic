{
 "cells": [
  {
   "cell_type": "markdown",
   "metadata": {},
   "source": [
    "# Análise Titanic (Parte 2)- Feature Scaling\n",
    "\n",
    "Neste notebook iremos continuar com a análise de dados dos passageiros do Titanic. Agora iremos trabalhar com os dados com alguns tratamentos possíveis\n",
    "\n",
    "\n",
    "## Etapa inicial - Baixar os dados"
   ]
  },
  {
   "cell_type": "code",
   "execution_count": 2,
   "metadata": {},
   "outputs": [
    {
     "name": "stdout",
     "output_type": "stream",
     "text": [
      "<class 'pandas.core.frame.DataFrame'>\n",
      "RangeIndex: 1309 entries, 0 to 1308\n",
      "Data columns (total 14 columns):\n",
      "pclass       1309 non-null int64\n",
      "survived     1309 non-null int64\n",
      "name         1309 non-null object\n",
      "sex          1309 non-null object\n",
      "age          1046 non-null float64\n",
      "sibsp        1309 non-null int64\n",
      "parch        1309 non-null int64\n",
      "ticket       1309 non-null object\n",
      "fare         1308 non-null float64\n",
      "cabin        295 non-null object\n",
      "embarked     1307 non-null object\n",
      "boat         486 non-null object\n",
      "body         121 non-null float64\n",
      "home.dest    745 non-null object\n",
      "dtypes: float64(3), int64(4), object(7)\n",
      "memory usage: 143.2+ KB\n"
     ]
    }
   ],
   "source": [
    "import pandas as pd\n",
    "\n",
    "dados = pd.read_excel('http://biostat.mc.vanderbilt.edu/wiki/pub/Main/DataSets/titanic3.xls')\n",
    "\n",
    "dados.head(3)\n",
    "dados.info()"
   ]
  },
  {
   "cell_type": "markdown",
   "metadata": {},
   "source": [
    "Preencher os valores faltantes da coluna idade ('age') com a mediana. Criar a variável 'familia' sendo a soma das variáveis 'sibsp' e 'parch' "
   ]
  },
  {
   "cell_type": "code",
   "execution_count": 3,
   "metadata": {},
   "outputs": [],
   "source": [
    "## Preencher idades faltantes\n",
    "dados.isna().sum()\n",
    "\n",
    "## Inserir Idades faltantes com a Mediana\n",
    "dados['age'].fillna(dados['age'].median(), inplace = True)\n",
    "\n",
    "## Criar variável \"familia\" como a soma entre 'sibsp' e 'parch'\n",
    "dados['familia'] = dados['sibsp'] + dados['parch'] "
   ]
  },
  {
   "cell_type": "markdown",
   "metadata": {},
   "source": [
    "Transformar as variáveis 'pclass' e 'sex' em binárias (dummies"
   ]
  },
  {
   "cell_type": "code",
   "execution_count": 4,
   "metadata": {
    "scrolled": true
   },
   "outputs": [],
   "source": [
    "## Transformar variáveis categóricas\n",
    "from sklearn.preprocessing import LabelEncoder\n",
    "labelencoder = LabelEncoder()\n",
    "labelencoder.fit_transform(dados['sex'])\n",
    "\n",
    "dados_ajustados2 = pd.get_dummies(dados, columns=[\"pclass\",\"sex\"])\n",
    "\n",
    "del dados_ajustados2['sex_female']\n",
    "del dados_ajustados2['pclass_1']\n",
    "\n",
    "resultados_acuracia2 = pd.DataFrame(columns = ['modelo', 'acuracia'])"
   ]
  },
  {
   "cell_type": "markdown",
   "metadata": {},
   "source": [
    "Padronizar os valores quantitativos de idade ('age') e 'familia' tirando a média e dividindo pela variância"
   ]
  },
  {
   "cell_type": "code",
   "execution_count": 5,
   "metadata": {},
   "outputs": [],
   "source": [
    "#### Padronizar as variáveis quantitativas\n",
    "from sklearn import preprocessing\n",
    "\n",
    "std_scale = preprocessing.StandardScaler().fit(dados_ajustados2[['age', 'familia']])\n",
    "dados_ajustados2[['age', 'familia']] = std_scale.transform(dados_ajustados2[['age','familia']])"
   ]
  },
  {
   "cell_type": "markdown",
   "metadata": {},
   "source": [
    "## Rodar modelos"
   ]
  },
  {
   "cell_type": "code",
   "execution_count": 6,
   "metadata": {},
   "outputs": [],
   "source": [
    "\n",
    "#######################################################\n",
    "#\n",
    "#               Rodar Modelos\n",
    "#\n",
    "#######################################################\n",
    "\n",
    "from sklearn.metrics import accuracy_score\n",
    "from sklearn.metrics import confusion_matrix\n",
    "\n",
    "from sklearn.linear_model import LogisticRegression\n",
    "from sklearn.neighbors import KNeighborsClassifier\n",
    "from sklearn.naive_bayes import GaussianNB\n",
    "from sklearn.discriminant_analysis import LinearDiscriminantAnalysis\n",
    "from sklearn import svm\n",
    "from sklearn.tree import DecisionTreeClassifier\n",
    "\n",
    "modelos = [\n",
    "    [LogisticRegression(fit_intercept = True),'lr_sklearn'],\n",
    "    [KNeighborsClassifier(n_neighbors=3),'knn'],\n",
    "    [GaussianNB(),'naive_bayes'],\n",
    "    [LinearDiscriminantAnalysis(),'lda'],\n",
    "    [svm.SVC(gamma=0.1, C=1.0),'svm'],\n",
    "    [DecisionTreeClassifier(), 'arvore_decisao']\n",
    "]\n",
    "\n",
    "# Criar uma função para rodar todos os modelos \n",
    "def analise(modelo, nome, dados, tabela_acuracia):\n",
    "    \n",
    "    modelo.fit(dados[['pclass_2','pclass_3','age','sex_male','familia']],dados['survived'])\n",
    "    previsto = modelo.predict(dados[['pclass_2','pclass_3','age','sex_male','familia']])\n",
    "    acuracia = accuracy_score(dados['survived'],previsto)\n",
    "    tabela_acuracia = tabela_acuracia.append({'modelo':nome, 'acuracia':acuracia}, ignore_index = True)\n",
    "                                             \n",
    "    return tabela_acuracia\n",
    "\n",
    "for item in modelos:\n",
    "    resultados_acuracia = analise(item[0],item[1], dados_ajustados2, resultados_acuracia2)\n",
    "    resultados_acuracia2 = resultados_acuracia"
   ]
  },
  {
   "cell_type": "code",
   "execution_count": 7,
   "metadata": {},
   "outputs": [
    {
     "data": {
      "text/html": [
       "<div>\n",
       "<style scoped>\n",
       "    .dataframe tbody tr th:only-of-type {\n",
       "        vertical-align: middle;\n",
       "    }\n",
       "\n",
       "    .dataframe tbody tr th {\n",
       "        vertical-align: top;\n",
       "    }\n",
       "\n",
       "    .dataframe thead th {\n",
       "        text-align: right;\n",
       "    }\n",
       "</style>\n",
       "<table border=\"1\" class=\"dataframe\">\n",
       "  <thead>\n",
       "    <tr style=\"text-align: right;\">\n",
       "      <th></th>\n",
       "      <th>modelo</th>\n",
       "      <th>acuracia</th>\n",
       "    </tr>\n",
       "  </thead>\n",
       "  <tbody>\n",
       "    <tr>\n",
       "      <th>0</th>\n",
       "      <td>lr_sklearn</td>\n",
       "      <td>0.789916</td>\n",
       "    </tr>\n",
       "    <tr>\n",
       "      <th>1</th>\n",
       "      <td>knn</td>\n",
       "      <td>0.829641</td>\n",
       "    </tr>\n",
       "    <tr>\n",
       "      <th>2</th>\n",
       "      <td>naive_bayes</td>\n",
       "      <td>0.799847</td>\n",
       "    </tr>\n",
       "    <tr>\n",
       "      <th>3</th>\n",
       "      <td>lda</td>\n",
       "      <td>0.788388</td>\n",
       "    </tr>\n",
       "    <tr>\n",
       "      <th>4</th>\n",
       "      <td>svm</td>\n",
       "      <td>0.810542</td>\n",
       "    </tr>\n",
       "    <tr>\n",
       "      <th>5</th>\n",
       "      <td>arvore_decisao</td>\n",
       "      <td>0.880825</td>\n",
       "    </tr>\n",
       "  </tbody>\n",
       "</table>\n",
       "</div>"
      ],
      "text/plain": [
       "           modelo  acuracia\n",
       "0      lr_sklearn  0.789916\n",
       "1             knn  0.829641\n",
       "2     naive_bayes  0.799847\n",
       "3             lda  0.788388\n",
       "4             svm  0.810542\n",
       "5  arvore_decisao  0.880825"
      ]
     },
     "execution_count": 7,
     "metadata": {},
     "output_type": "execute_result"
    }
   ],
   "source": [
    "resultados_acuracia2"
   ]
  }
 ],
 "metadata": {
  "kernelspec": {
   "display_name": "Python 3",
   "language": "python",
   "name": "python3"
  },
  "language_info": {
   "codemirror_mode": {
    "name": "ipython",
    "version": 3
   },
   "file_extension": ".py",
   "mimetype": "text/x-python",
   "name": "python",
   "nbconvert_exporter": "python",
   "pygments_lexer": "ipython3",
   "version": "3.6.7"
  }
 },
 "nbformat": 4,
 "nbformat_minor": 2
}
