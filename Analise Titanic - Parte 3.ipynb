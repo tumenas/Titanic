{
 "cells": [
  {
   "cell_type": "markdown",
   "metadata": {},
   "source": [
    "# Análise Titanic (Parte 3)- Escolha dos Hiperparâmetros\n",
    "\n",
    "\n",
    "Neste notebook iremos continuar com a análise de dados dos passageiros do Titanic. Agora iremos trabalhar com a escolha dos hiperparâmetros dos modelos.\n",
    "\n",
    "\n",
    "## Etapa inicial - Baixar os dados e tratá-los"
   ]
  },
  {
   "cell_type": "code",
   "execution_count": 1,
   "metadata": {},
   "outputs": [],
   "source": [
    "import pandas as pd\n",
    "\n",
    "## Baixar os dados\n",
    "dados = pd.read_excel('http://biostat.mc.vanderbilt.edu/wiki/pub/Main/DataSets/titanic3.xls')\n",
    "\n",
    "## Preencher idades faltantes\n",
    "dados.isna().sum()\n",
    "\n",
    "## Inserir Idades faltantes com a Mediana\n",
    "dados['age'].fillna(dados['age'].median(), inplace = True)\n",
    "\n",
    "## Criar variável \"familia\" como a soma entre 'sibsp' e 'parch'\n",
    "dados['familia'] = dados['sibsp'] + dados['parch'] \n",
    "\n",
    "## Transformar variáveis categóricas\n",
    "from sklearn.preprocessing import LabelEncoder\n",
    "labelencoder = LabelEncoder()\n",
    "labelencoder.fit_transform(dados['sex'])\n",
    "\n",
    "dados_ajustados2 = pd.get_dummies(dados, columns=[\"pclass\",\"sex\"])\n",
    "\n",
    "del dados_ajustados2['sex_female']\n",
    "del dados_ajustados2['pclass_1']\n",
    "\n",
    "resultados_acuracia2 = pd.DataFrame(columns = ['modelo', 'acuracia'])\n",
    "\n",
    "#### Padronizar as variáveis quantitativas\n",
    "from sklearn import preprocessing\n",
    "\n",
    "std_scale = preprocessing.StandardScaler().fit(dados_ajustados2[['age', 'familia']])\n",
    "dados_ajustados2[['age', 'familia']] = std_scale.transform(dados_ajustados2[['age','familia']])"
   ]
  },
  {
   "cell_type": "markdown",
   "metadata": {},
   "source": [
    "## Exemplo de escolha dos hiperparâmetros do KNN\n",
    "\n",
    "O modelo KNN tem como hiperparâmetro o número de \"vizinhos\" (neighbors) que é definido no momento que criamos o 'objeto' do sklearn. Por exemplo, ao criarmos uma instância do knn que utilize os 3 vizinhos mais próximos:"
   ]
  },
  {
   "cell_type": "code",
   "execution_count": 13,
   "metadata": {},
   "outputs": [],
   "source": [
    "from sklearn.neighbors import KNeighborsClassifier\n",
    "\n",
    "knn = KNeighborsClassifier(n_neighbors=3)"
   ]
  },
  {
   "cell_type": "markdown",
   "metadata": {},
   "source": [
    "Para escolher o melhor hiperparâmetro \"vizinhos\" iremos utilizar o que é chamado de Validação Cruzada (Cross Validation)\n",
    "\n",
    "\n",
    "## Cross Validation\n",
    "\n",
    "A ideia é separar a base de dados em grupos de treinamento e grupos de teste. O modelo a ser avaliado é ajustado com os dados presentes no grupo de treinamento e, depois, a performance do modelo ajustado é avaliada com os dados presentes no grupo de teste. A performance do modelo é a média dos resultados obtidos em cada rodada de treinamento.\n",
    "Existem diversas maneiras de fazer a separação entre dados de treinamento e teste. \n",
    "Dentre elas, temos:\n",
    "\n",
    "### K-Fold\n",
    "\n",
    "Dividiremos a base de dados em K partições ('folds') e realizaremos K rodadas de treinamento e teste do modelo com essas combinações de dados. "
   ]
  },
  {
   "cell_type": "code",
   "execution_count": 7,
   "metadata": {},
   "outputs": [
    {
     "data": {
      "text/html": [
       "<img src=\"https://scikit-learn.org/stable/_images/sphx_glr_plot_cv_indices_0041.png\"/>"
      ],
      "text/plain": [
       "<IPython.core.display.Image object>"
      ]
     },
     "execution_count": 7,
     "metadata": {},
     "output_type": "execute_result"
    }
   ],
   "source": [
    "from IPython.display import Image\n",
    "from IPython.core.display import HTML \n",
    "Image(url= \"https://scikit-learn.org/stable/_images/sphx_glr_plot_cv_indices_0041.png\")"
   ]
  },
  {
   "cell_type": "markdown",
   "metadata": {},
   "source": [
    "\n",
    "### Shuffle Split\n",
    "\n",
    "Iremos dividir a base em um número definido de divisões treino/teste. As amostras são embaralhadas e depois divididas nos pares de treino/teste\n"
   ]
  },
  {
   "cell_type": "code",
   "execution_count": 11,
   "metadata": {},
   "outputs": [
    {
     "data": {
      "text/html": [
       "<img src=\"https://scikit-learn.org/stable/_images/sphx_glr_plot_cv_indices_0061.png\"/>"
      ],
      "text/plain": [
       "<IPython.core.display.Image object>"
      ]
     },
     "execution_count": 11,
     "metadata": {},
     "output_type": "execute_result"
    }
   ],
   "source": [
    "Image(url= \"https://scikit-learn.org/stable/_images/sphx_glr_plot_cv_indices_0061.png\")"
   ]
  },
  {
   "cell_type": "markdown",
   "metadata": {},
   "source": [
    "Outras metodologias de Cross Validation, como Leave One Out Cross Validation (LOOCV), estão descritas em\n",
    "\n",
    "https://scikit-learn.org/stable/modules/cross_validation.html"
   ]
  },
  {
   "cell_type": "markdown",
   "metadata": {},
   "source": [
    "Para encontrar o melhor hiperparâmetro do KNN, iremos buscar qual tem melhor desepenho em um processo de Cross Validation.\n",
    "O Scikit Learn permite realizar essa busca de duas maneiras: GridSearch (onde todos os hiperparâmetros serão testados) e RandomizedSearch (onde os hiperparâmetros serão buscados de maneira aleatória). Este último para casos onde a quantidade de hiperparâmetros inviabilizaria o cálculo de todas as combinações possíveis.\n",
    "\n"
   ]
  },
  {
   "cell_type": "code",
   "execution_count": 14,
   "metadata": {},
   "outputs": [
    {
     "data": {
      "text/plain": [
       "{'n_neighbors': 19}"
      ]
     },
     "execution_count": 14,
     "metadata": {},
     "output_type": "execute_result"
    }
   ],
   "source": [
    "from sklearn.model_selection import GridSearchCV\n",
    "from sklearn.model_selection import RandomizedSearchCV\n",
    "from sklearn.model_selection import ShuffleSplit\n",
    "\n",
    "X = dados_ajustados2[['pclass_2','pclass_3','age','sex_male','familia']]\n",
    "y = dados_ajustados2['survived']\n",
    "\n",
    "# KNN a ser utilizado\n",
    "knn = KNeighborsClassifier()\n",
    "\n",
    "# Todos os parâmetros a serem testados\n",
    "parameters = {'n_neighbors':[1,2,3,4,5,6,7,8,9,10,11,12,13,14,15,16,17,18,19,20]}\n",
    "\n",
    "# Cross Validation com o Shuffle Split\n",
    "cross_validation = ShuffleSplit(n_splits=5, test_size=0.3, random_state=0)\n",
    "\n",
    "best_knn = GridSearchCV(knn, parameters, cv= cross_validation)\n",
    "best_knn.fit(X,y)\n",
    "\n",
    "# Qual melhor hiperparâmetro\n",
    "best_knn.best_params_"
   ]
  },
  {
   "cell_type": "markdown",
   "metadata": {},
   "source": [
    "No caso, o melhor hiperparâmetros para o KNN é de 19"
   ]
  },
  {
   "cell_type": "markdown",
   "metadata": {},
   "source": [
    "## Busca dos melhores hiperparâmetros para SVM"
   ]
  },
  {
   "cell_type": "code",
   "execution_count": 15,
   "metadata": {},
   "outputs": [
    {
     "data": {
      "text/plain": [
       "{'C': 2, 'degree': 2, 'kernel': 'rbf'}"
      ]
     },
     "execution_count": 15,
     "metadata": {},
     "output_type": "execute_result"
    }
   ],
   "source": [
    "from sklearn.model_selection import KFold\n",
    "from sklearn import svm\n",
    "\n",
    "kf = KFold(n_splits=10)\n",
    "\n",
    "parameters = {'kernel':('linear', 'rbf'), 'C':[1,2,3,4,5,6,7,8,9,10], 'degree': [2,3,4,5]}\n",
    "\n",
    "svc = svm.SVC()\n",
    "\n",
    "best_svm = GridSearchCV(svc, parameters, cv=kf)\n",
    "best_svm.fit(X, y)\n",
    "\n",
    "best_svm.best_params_"
   ]
  }
 ],
 "metadata": {
  "kernelspec": {
   "display_name": "Python 3",
   "language": "python",
   "name": "python3"
  },
  "language_info": {
   "codemirror_mode": {
    "name": "ipython",
    "version": 3
   },
   "file_extension": ".py",
   "mimetype": "text/x-python",
   "name": "python",
   "nbconvert_exporter": "python",
   "pygments_lexer": "ipython3",
   "version": "3.6.7"
  }
 },
 "nbformat": 4,
 "nbformat_minor": 2
}
