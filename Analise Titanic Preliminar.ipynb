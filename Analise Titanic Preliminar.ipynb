{
 "cells": [
  {
   "cell_type": "markdown",
   "metadata": {},
   "source": [
    "# Análise Titanic\n",
    "\n",
    "\n",
    "Neste notebook iremos trabalhar com a base de dados dos passageiros do Titanic. O foco é avaliar os modelos para previsão se um passageiro sobreviverá ou não. \n",
    "\n",
    "## Etapa preliminar\n",
    "\n",
    "A primeira etapa é carregar a base de dados"
   ]
  },
  {
   "cell_type": "code",
   "execution_count": 2,
   "metadata": {},
   "outputs": [
    {
     "data": {
      "text/html": [
       "<div>\n",
       "<style scoped>\n",
       "    .dataframe tbody tr th:only-of-type {\n",
       "        vertical-align: middle;\n",
       "    }\n",
       "\n",
       "    .dataframe tbody tr th {\n",
       "        vertical-align: top;\n",
       "    }\n",
       "\n",
       "    .dataframe thead th {\n",
       "        text-align: right;\n",
       "    }\n",
       "</style>\n",
       "<table border=\"1\" class=\"dataframe\">\n",
       "  <thead>\n",
       "    <tr style=\"text-align: right;\">\n",
       "      <th></th>\n",
       "      <th>pclass</th>\n",
       "      <th>survived</th>\n",
       "      <th>name</th>\n",
       "      <th>sex</th>\n",
       "      <th>age</th>\n",
       "      <th>sibsp</th>\n",
       "      <th>parch</th>\n",
       "      <th>ticket</th>\n",
       "      <th>fare</th>\n",
       "      <th>cabin</th>\n",
       "      <th>embarked</th>\n",
       "      <th>boat</th>\n",
       "      <th>body</th>\n",
       "      <th>home.dest</th>\n",
       "    </tr>\n",
       "  </thead>\n",
       "  <tbody>\n",
       "    <tr>\n",
       "      <th>0</th>\n",
       "      <td>1</td>\n",
       "      <td>1</td>\n",
       "      <td>Allen, Miss. Elisabeth Walton</td>\n",
       "      <td>female</td>\n",
       "      <td>29.0000</td>\n",
       "      <td>0</td>\n",
       "      <td>0</td>\n",
       "      <td>24160</td>\n",
       "      <td>211.3375</td>\n",
       "      <td>B5</td>\n",
       "      <td>S</td>\n",
       "      <td>2</td>\n",
       "      <td>NaN</td>\n",
       "      <td>St Louis, MO</td>\n",
       "    </tr>\n",
       "    <tr>\n",
       "      <th>1</th>\n",
       "      <td>1</td>\n",
       "      <td>1</td>\n",
       "      <td>Allison, Master. Hudson Trevor</td>\n",
       "      <td>male</td>\n",
       "      <td>0.9167</td>\n",
       "      <td>1</td>\n",
       "      <td>2</td>\n",
       "      <td>113781</td>\n",
       "      <td>151.5500</td>\n",
       "      <td>C22 C26</td>\n",
       "      <td>S</td>\n",
       "      <td>11</td>\n",
       "      <td>NaN</td>\n",
       "      <td>Montreal, PQ / Chesterville, ON</td>\n",
       "    </tr>\n",
       "    <tr>\n",
       "      <th>2</th>\n",
       "      <td>1</td>\n",
       "      <td>0</td>\n",
       "      <td>Allison, Miss. Helen Loraine</td>\n",
       "      <td>female</td>\n",
       "      <td>2.0000</td>\n",
       "      <td>1</td>\n",
       "      <td>2</td>\n",
       "      <td>113781</td>\n",
       "      <td>151.5500</td>\n",
       "      <td>C22 C26</td>\n",
       "      <td>S</td>\n",
       "      <td>NaN</td>\n",
       "      <td>NaN</td>\n",
       "      <td>Montreal, PQ / Chesterville, ON</td>\n",
       "    </tr>\n",
       "  </tbody>\n",
       "</table>\n",
       "</div>"
      ],
      "text/plain": [
       "   pclass  survived                            name     sex      age  sibsp  \\\n",
       "0       1         1   Allen, Miss. Elisabeth Walton  female  29.0000      0   \n",
       "1       1         1  Allison, Master. Hudson Trevor    male   0.9167      1   \n",
       "2       1         0    Allison, Miss. Helen Loraine  female   2.0000      1   \n",
       "\n",
       "   parch  ticket      fare    cabin embarked boat  body  \\\n",
       "0      0   24160  211.3375       B5        S    2   NaN   \n",
       "1      2  113781  151.5500  C22 C26        S   11   NaN   \n",
       "2      2  113781  151.5500  C22 C26        S  NaN   NaN   \n",
       "\n",
       "                         home.dest  \n",
       "0                     St Louis, MO  \n",
       "1  Montreal, PQ / Chesterville, ON  \n",
       "2  Montreal, PQ / Chesterville, ON  "
      ]
     },
     "execution_count": 2,
     "metadata": {},
     "output_type": "execute_result"
    }
   ],
   "source": [
    "import pandas as pd\n",
    "\n",
    "dados = pd.read_excel('http://biostat.mc.vanderbilt.edu/wiki/pub/Main/DataSets/titanic3.xls')\n",
    "\n",
    "dados.head(3)"
   ]
  },
  {
   "cell_type": "markdown",
   "metadata": {},
   "source": [
    "A segunda etapa é verificar os dados faltantes"
   ]
  },
  {
   "cell_type": "code",
   "execution_count": 4,
   "metadata": {},
   "outputs": [
    {
     "name": "stdout",
     "output_type": "stream",
     "text": [
      "<class 'pandas.core.frame.DataFrame'>\n",
      "RangeIndex: 1309 entries, 0 to 1308\n",
      "Data columns (total 14 columns):\n",
      "pclass       1309 non-null int64\n",
      "survived     1309 non-null int64\n",
      "name         1309 non-null object\n",
      "sex          1309 non-null object\n",
      "age          1046 non-null float64\n",
      "sibsp        1309 non-null int64\n",
      "parch        1309 non-null int64\n",
      "ticket       1309 non-null object\n",
      "fare         1308 non-null float64\n",
      "cabin        295 non-null object\n",
      "embarked     1307 non-null object\n",
      "boat         486 non-null object\n",
      "body         121 non-null float64\n",
      "home.dest    745 non-null object\n",
      "dtypes: float64(3), int64(4), object(7)\n",
      "memory usage: 143.2+ KB\n"
     ]
    },
    {
     "data": {
      "text/plain": [
       "pclass          0\n",
       "survived        0\n",
       "name            0\n",
       "sex             0\n",
       "age           263\n",
       "sibsp           0\n",
       "parch           0\n",
       "ticket          0\n",
       "fare            1\n",
       "cabin        1014\n",
       "embarked        2\n",
       "boat          823\n",
       "body         1188\n",
       "home.dest     564\n",
       "dtype: int64"
      ]
     },
     "execution_count": 4,
     "metadata": {},
     "output_type": "execute_result"
    }
   ],
   "source": [
    "dados.info()\n",
    "\n",
    "dados.isna().sum()"
   ]
  },
  {
   "cell_type": "markdown",
   "metadata": {},
   "source": [
    "Podemos verificar que algumas colunas do banco de dados (as features) possuem valores faltantes. A coluna idade ('age') tem 263 casos com dados faltantes.\n",
    "\n",
    "Vamos substituir os casos com dados faltantes com o valor da mediana da idade\n"
   ]
  },
  {
   "cell_type": "code",
   "execution_count": 5,
   "metadata": {},
   "outputs": [],
   "source": [
    "## Inserir Idades faltantes com a Mediana\n",
    "dados['age'].fillna(dados['age'].median(), inplace = True)"
   ]
  },
  {
   "cell_type": "code",
   "execution_count": 6,
   "metadata": {},
   "outputs": [],
   "source": [
    "## Criar variável \"familia\" como a soma entre 'sibsp' e 'parch'\n",
    "dados['familia'] = dados['sibsp'] + dados['parch'] "
   ]
  },
  {
   "cell_type": "markdown",
   "metadata": {},
   "source": [
    "## Gráficos descritivos\n",
    "\n",
    "A seguir temos alguns gráficos descritivos das variáveis que serão utilizadas"
   ]
  },
  {
   "cell_type": "code",
   "execution_count": 21,
   "metadata": {},
   "outputs": [
    {
     "data": {
      "text/plain": [
       "<matplotlib.axes._subplots.AxesSubplot at 0x7f159440f908>"
      ]
     },
     "execution_count": 21,
     "metadata": {},
     "output_type": "execute_result"
    },
    {
     "data": {
      "image/png": "[encoded data removed]",
      "text/plain": [
       "<matplotlib.figure.Figure at 0x7f1594434588>"
      ]
     },
     "metadata": {},
     "output_type": "display_data"
    }
   ],
   "source": [
    "% matplotlib inline\n",
    "dados['age'].hist()"
   ]
  },
  {
   "cell_type": "code",
   "execution_count": 22,
   "metadata": {},
   "outputs": [
    {
     "data": {
      "text/plain": [
       "<matplotlib.axes._subplots.AxesSubplot at 0x7f159436ad68>"
      ]
     },
     "execution_count": 22,
     "metadata": {},
     "output_type": "execute_result"
    },
    {
     "data": {
      "image/png": "[encoded data removed]",
      "text/plain": [
       "<matplotlib.figure.Figure at 0x7f15943760f0>"
      ]
     },
     "metadata": {},
     "output_type": "display_data"
    }
   ],
   "source": [
    "dados['familia'].hist()"
   ]
  },
  {
   "cell_type": "code",
   "execution_count": 30,
   "metadata": {},
   "outputs": [
    {
     "data": {
      "text/plain": [
       "<matplotlib.axes._subplots.AxesSubplot at 0x7f1593fe97b8>"
      ]
     },
     "execution_count": 30,
     "metadata": {},
     "output_type": "execute_result"
    },
    {
     "data": {
      "image/png": "[encoded data removed]",
      "text/plain": [
       "<matplotlib.figure.Figure at 0x7f15940e0940>"
      ]
     },
     "metadata": {},
     "output_type": "display_data"
    }
   ],
   "source": [
    "dados.groupby(['sex']).count()['name'].plot.pie()"
   ]
  },
  {
   "cell_type": "code",
   "execution_count": 28,
   "metadata": {},
   "outputs": [
    {
     "data": {
      "text/plain": [
       "<matplotlib.axes._subplots.AxesSubplot at 0x7f159433dc88>"
      ]
     },
     "execution_count": 28,
     "metadata": {},
     "output_type": "execute_result"
    },
    {
     "data": {
      "image/png": "[encoded data removed]",
      "text/plain": [
       "<matplotlib.figure.Figure at 0x7f15942e6240>"
      ]
     },
     "metadata": {},
     "output_type": "display_data"
    }
   ],
   "source": [
    "dados.groupby(['pclass']).count()['name'].plot.pie()"
   ]
  },
  {
   "cell_type": "markdown",
   "metadata": {},
   "source": [
    "A próxima etapa é transformar as variáveis qualitativas em binárias (dummies)"
   ]
  },
  {
   "cell_type": "code",
   "execution_count": 7,
   "metadata": {},
   "outputs": [],
   "source": [
    "## Transformar variáveis categóricas\n",
    "from sklearn.preprocessing import LabelEncoder\n",
    "labelencoder = LabelEncoder()\n",
    "labelencoder.fit_transform(dados['sex'])\n",
    "\n",
    "dados_ajustados = pd.get_dummies(dados, columns=[\"pclass\",\"sex\"])\n",
    "\n",
    "#Apagar as dummies que servirão de base\n",
    "del dados_ajustados['sex_female']\n",
    "del dados_ajustados['pclass_1']"
   ]
  },
  {
   "cell_type": "markdown",
   "metadata": {},
   "source": [
    "### Rodar modelos\n",
    "\n",
    "A partir de agora iremos rodar alguns modelos disponíveis no pacote Scikit Learn. Nesta primeira análise não iremos nos preocupar com o possível Overfitting dos modelos (ao não separar a base de dados entre treino e teste).\n"
   ]
  },
  {
   "cell_type": "code",
   "execution_count": 8,
   "metadata": {},
   "outputs": [],
   "source": [
    "from sklearn.metrics import accuracy_score\n",
    "from sklearn.metrics import confusion_matrix\n",
    "\n",
    "# Tabela com resultados finais\n",
    "resultados_acuracia = pd.DataFrame(columns = ['modelo', 'acuracia'])"
   ]
  },
  {
   "cell_type": "markdown",
   "metadata": {},
   "source": [
    "### Regressão Logística"
   ]
  },
  {
   "cell_type": "code",
   "execution_count": 9,
   "metadata": {},
   "outputs": [
    {
     "name": "stderr",
     "output_type": "stream",
     "text": [
      "/usr/local/lib/python3.6/dist-packages/statsmodels/compat/pandas.py:56: FutureWarning: The pandas.core.datetools module is deprecated and will be removed in a future version. Please use the pandas.tseries module instead.\n",
      "  from pandas.core import datetools\n"
     ]
    },
    {
     "name": "stdout",
     "output_type": "stream",
     "text": [
      "Optimization terminated successfully.\n",
      "         Current function value: 0.464663\n",
      "         Iterations 6\n",
      "Optimization terminated successfully.\n",
      "         Current function value: 0.464663\n",
      "         Iterations 6\n",
      "Optimization terminated successfully.\n",
      "         Current function value: 0.464663\n",
      "         Iterations 6\n"
     ]
    }
   ],
   "source": [
    "#################################################\n",
    "##\n",
    "## Rodar Regressão logística usando Scikit Learn\n",
    "##\n",
    "#################################################\n",
    "\n",
    "from sklearn.linear_model import LogisticRegression\n",
    "\n",
    "# Modelo\n",
    "regressao_logistica = LogisticRegression(fit_intercept = True)\n",
    "regressao_logistica.fit(dados_ajustados[['pclass_2','pclass_3','age','sex_male','familia']],dados_ajustados['survived'])\n",
    "regressao_logistica.intercept_[0]\n",
    "regressao_logistica.coef_[0]\n",
    "\n",
    "# Resultados\n",
    "previsto = regressao_logistica.predict(dados_ajustados[['pclass_2','pclass_3','age','sex_male','familia']])\n",
    "\n",
    "acuracia = accuracy_score(dados_ajustados['survived'],previsto)\n",
    "confusion_matrix(dados_ajustados['survived'],previsto)\n",
    "\n",
    "tn, fp, fn, tp = confusion_matrix(dados_ajustados['survived'],previsto).ravel()\n",
    "\n",
    "# Adicionar à tabela de resultados finais\n",
    "resultados_acuracia = resultados_acuracia.append({'modelo':'lr_sklearn', 'acuracia':acuracia}, ignore_index = True)\n",
    "\n",
    "\n",
    "#################################################\n",
    "##\n",
    "## Rodar Regressão logística usando Statsmodels\n",
    "##\n",
    "#################################################\n",
    "\n",
    "### Regressão logistica Statsmodels\n",
    "import statsmodels.api as sm\n",
    "import statsmodels.discrete.discrete_model as dm\n",
    "\n",
    "# Adicionar constante\n",
    "cte_dados = sm.add_constant(dados_ajustados[['pclass_2','pclass_3','age','sex_male','familia']])\n",
    "\n",
    "# Modelo\n",
    "logit = dm.Logit(dados_ajustados['survived'], cte_dados)\n",
    "logit.fit().params\n",
    "logit.fit().summary()\n",
    "\n",
    "# Resultados\n",
    "previsto = logit.fit().predict(cte_dados)\n",
    "previsto = pd.DataFrame([1 if item>=.5 else 0 for item in previsto])\n",
    "\n",
    "acuracia = accuracy_score(dados_ajustados['survived'],previsto)\n",
    "confusion_matrix(dados_ajustados['survived'],previsto)\n",
    "\n",
    "tn, fp, fn, tp = confusion_matrix(dados_ajustados['survived'],previsto).ravel()\n",
    "\n",
    "# Adicionar à tabela de resultados finais\n",
    "resultados_acuracia = resultados_acuracia.append({'modelo':'lr_stats', 'acuracia':acuracia}, ignore_index = True)\n"
   ]
  },
  {
   "cell_type": "markdown",
   "metadata": {},
   "source": [
    "### KNN (K Nearest Neighbors)"
   ]
  },
  {
   "cell_type": "code",
   "execution_count": 10,
   "metadata": {},
   "outputs": [],
   "source": [
    "from sklearn.neighbors import KNeighborsClassifier\n",
    "\n",
    "# Modelo\n",
    "knn = KNeighborsClassifier(n_neighbors=3)\n",
    "knn.fit(dados_ajustados[['pclass_2','pclass_3','age','sex_male','familia']],dados_ajustados['survived'])\n",
    "\n",
    "# Resultados\n",
    "previsto = knn.predict(dados_ajustados[['pclass_2','pclass_3','age','sex_male','familia']])\n",
    "\n",
    "acuracia = accuracy_score(dados_ajustados['survived'],previsto)\n",
    "confusion_matrix(dados_ajustados['survived'],previsto)\n",
    "\n",
    "# Adicionar à tabela de resultados finais\n",
    "resultados_acuracia = resultados_acuracia.append({'modelo':'knn', 'acuracia':acuracia}, ignore_index = True)\n"
   ]
  },
  {
   "cell_type": "markdown",
   "metadata": {},
   "source": [
    "### Naive Bayes"
   ]
  },
  {
   "cell_type": "code",
   "execution_count": 11,
   "metadata": {},
   "outputs": [],
   "source": [
    "from sklearn.naive_bayes import GaussianNB\n",
    "\n",
    "# Modelo\n",
    "gaussian_nb = GaussianNB()\n",
    "gaussian_nb.fit(dados_ajustados[['pclass_2','pclass_3','age','sex_male','familia']],dados_ajustados['survived'])\n",
    "\n",
    "# Resultados\n",
    "previsto = gaussian_nb.predict(dados_ajustados[['pclass_2','pclass_3','age','sex_male','familia']])\n",
    "\n",
    "acuracia = accuracy_score(dados_ajustados['survived'],previsto)\n",
    "confusion_matrix(dados_ajustados['survived'],previsto)\n",
    "\n",
    "# Adicionar à tabela de resultados finais\n",
    "resultados_acuracia = resultados_acuracia.append({'modelo':'naive_bayes', 'acuracia':acuracia}, ignore_index = True)\n"
   ]
  },
  {
   "cell_type": "markdown",
   "metadata": {},
   "source": [
    "### Análise Discriminante"
   ]
  },
  {
   "cell_type": "code",
   "execution_count": 12,
   "metadata": {},
   "outputs": [],
   "source": [
    "from sklearn.discriminant_analysis import LinearDiscriminantAnalysis\n",
    "\n",
    "# Modelo\n",
    "discriminante = LinearDiscriminantAnalysis()\n",
    "discriminante.fit(dados_ajustados[['pclass_2','pclass_3','age','sex_male','familia']],dados_ajustados['survived'])\n",
    "\n",
    "# Resultados\n",
    "previsto = discriminante.predict(dados_ajustados[['pclass_2','pclass_3','age','sex_male','familia']])\n",
    "\n",
    "acuracia = accuracy_score(dados_ajustados['survived'],previsto)\n",
    "confusion_matrix(dados_ajustados['survived'],previsto)\n",
    "\n",
    "# Adicionar à tabela de resultados finais\n",
    "resultados_acuracia = resultados_acuracia.append({'modelo':'lda', 'acuracia':acuracia}, ignore_index = True)\n"
   ]
  },
  {
   "cell_type": "markdown",
   "metadata": {},
   "source": [
    "### SVM (Support Vector Machine)"
   ]
  },
  {
   "cell_type": "code",
   "execution_count": 18,
   "metadata": {},
   "outputs": [],
   "source": [
    "from sklearn import svm\n",
    "\n",
    "# Modelo\n",
    "modelo_svm = svm.SVC(gamma=0.1, C=1.0)\n",
    "modelo_svm.fit(dados_ajustados[['pclass_2','pclass_3','age','sex_male','familia']],dados_ajustados['survived'])\n",
    "\n",
    "# Resultados\n",
    "previsto = modelo_svm.predict(dados_ajustados[['pclass_2','pclass_3','age','sex_male','familia']])\n",
    "\n",
    "acuracia = accuracy_score(dados_ajustados['survived'],previsto)\n",
    "confusion_matrix(dados_ajustados['survived'],previsto)\n",
    "\n",
    "# Adicionar à tabela de resultados finais\n",
    "resultados_acuracia = resultados_acuracia.append({'modelo':'svm', 'acuracia':acuracia}, ignore_index = True)\n"
   ]
  },
  {
   "cell_type": "markdown",
   "metadata": {},
   "source": [
    "### Árvore de Decisão"
   ]
  },
  {
   "cell_type": "code",
   "execution_count": 14,
   "metadata": {},
   "outputs": [],
   "source": [
    "from sklearn.tree import DecisionTreeClassifier\n",
    "\n",
    "# Modelo\n",
    "arvore = DecisionTreeClassifier()\n",
    "arvore.fit(dados_ajustados[['pclass_2','pclass_3','age','sex_male','familia']],dados_ajustados['survived'])\n",
    "\n",
    "# Resultados\n",
    "previsto = arvore.predict(dados_ajustados[['pclass_2','pclass_3','age','sex_male','familia']])\n",
    "\n",
    "acuracia = accuracy_score(dados_ajustados['survived'],previsto)\n",
    "confusion_matrix(dados_ajustados['survived'],previsto)\n",
    "\n",
    "# Adicionar à tabela de resultados finais\n",
    "resultados_acuracia = resultados_acuracia.append({'modelo':'tree', 'acuracia':acuracia}, ignore_index = True)\n"
   ]
  },
  {
   "cell_type": "code",
   "execution_count": 19,
   "metadata": {},
   "outputs": [
    {
     "data": {
      "text/html": [
       "<div>\n",
       "<style scoped>\n",
       "    .dataframe tbody tr th:only-of-type {\n",
       "        vertical-align: middle;\n",
       "    }\n",
       "\n",
       "    .dataframe tbody tr th {\n",
       "        vertical-align: top;\n",
       "    }\n",
       "\n",
       "    .dataframe thead th {\n",
       "        text-align: right;\n",
       "    }\n",
       "</style>\n",
       "<table border=\"1\" class=\"dataframe\">\n",
       "  <thead>\n",
       "    <tr style=\"text-align: right;\">\n",
       "      <th></th>\n",
       "      <th>modelo</th>\n",
       "      <th>acuracia</th>\n",
       "    </tr>\n",
       "  </thead>\n",
       "  <tbody>\n",
       "    <tr>\n",
       "      <th>0</th>\n",
       "      <td>lr_sklearn</td>\n",
       "      <td>0.789152</td>\n",
       "    </tr>\n",
       "    <tr>\n",
       "      <th>1</th>\n",
       "      <td>lr_stats</td>\n",
       "      <td>0.783040</td>\n",
       "    </tr>\n",
       "    <tr>\n",
       "      <th>2</th>\n",
       "      <td>knn</td>\n",
       "      <td>0.838044</td>\n",
       "    </tr>\n",
       "    <tr>\n",
       "      <th>3</th>\n",
       "      <td>naive_bayes</td>\n",
       "      <td>0.799847</td>\n",
       "    </tr>\n",
       "    <tr>\n",
       "      <th>4</th>\n",
       "      <td>lda</td>\n",
       "      <td>0.788388</td>\n",
       "    </tr>\n",
       "    <tr>\n",
       "      <th>5</th>\n",
       "      <td>tree</td>\n",
       "      <td>0.880825</td>\n",
       "    </tr>\n",
       "    <tr>\n",
       "      <th>6</th>\n",
       "      <td>svm</td>\n",
       "      <td>0.636364</td>\n",
       "    </tr>\n",
       "    <tr>\n",
       "      <th>7</th>\n",
       "      <td>svm</td>\n",
       "      <td>0.813598</td>\n",
       "    </tr>\n",
       "  </tbody>\n",
       "</table>\n",
       "</div>"
      ],
      "text/plain": [
       "        modelo  acuracia\n",
       "0   lr_sklearn  0.789152\n",
       "1     lr_stats  0.783040\n",
       "2          knn  0.838044\n",
       "3  naive_bayes  0.799847\n",
       "4          lda  0.788388\n",
       "5         tree  0.880825\n",
       "6          svm  0.636364\n",
       "7          svm  0.813598"
      ]
     },
     "execution_count": 19,
     "metadata": {},
     "output_type": "execute_result"
    }
   ],
   "source": [
    "resultados_acuracia"
   ]
  }
 ],
 "metadata": {
  "kernelspec": {
   "display_name": "Python 3",
   "language": "python",
   "name": "python3"
  },
  "language_info": {
   "codemirror_mode": {
    "name": "ipython",
    "version": 3
   },
   "file_extension": ".py",
   "mimetype": "text/x-python",
   "name": "python",
   "nbconvert_exporter": "python",
   "pygments_lexer": "ipython3",
   "version": "3.6.7"
  }
 },
 "nbformat": 4,
 "nbformat_minor": 2
}
